{
 "cells": [
  {
   "cell_type": "code",
   "execution_count": 1,
   "metadata": {},
   "outputs": [],
   "source": [
    "# importing necessary libraries\n",
    "import pandas as pd\n",
    "import numpy as np\n",
    "import seaborn as sns\n",
    "import warnings\n",
    "import matplotlib.pyplot as plt\n",
    "warnings.filterwarnings('ignore')\n",
    "\n",
    "import statsmodels.api as sm\n",
    "from sklearn.model_selection import train_test_split\n",
    "from sklearn.preprocessing import StandardScaler\n",
    "from statsmodels.stats.outliers_influence import variance_inflation_factor\n",
    "from sklearn.model_selection import StratifiedKFold\n",
    "from sklearn import metrics\n",
    "from sklearn.metrics import confusion_matrix\n",
    "from sklearn.metrics import classification_report, accuracy_score\n",
    "from sklearn.metrics import roc_curve, roc_auc_score, auc\n",
    "from sklearn.model_selection import GridSearchCV\n",
    "from sklearn.ensemble import RandomForestClassifier\n",
    "from scipy.stats import iqr\n",
    "from scipy.stats import shapiro\n",
    "import pylab\n",
    "\n",
    "def draw_roc( actual, probs, title ): # module for ROC Curve\n",
    "    fpr, tpr, thresholds = metrics.roc_curve( actual, probs,\n",
    "                                              drop_intermediate = False )\n",
    "    auc_score = metrics.roc_auc_score( actual, probs )\n",
    "    plt.figure(figsize=(5, 5))\n",
    "    plt.plot( fpr, tpr, label='ROC curve (area = %0.2f)' % auc_score )\n",
    "    plt.plot([0, 1], [0, 1], 'k--')\n",
    "    plt.xlim([0.0, 1.0])\n",
    "    plt.ylim([0.0, 1.05])\n",
    "    plt.xlabel('False Positive Rate or [1 - True Negative Rate]')\n",
    "    plt.ylabel('True Positive Rate')\n",
    "    plt.title(title)\n",
    "    plt.legend(loc=\"lower right\")\n",
    "    plt.show()\n",
    "\n",
    "    return None"
   ]
  },
  {
   "cell_type": "markdown",
   "metadata": {},
   "source": [
    "# Data Understanding and Exploration"
   ]
  },
  {
   "cell_type": "code",
   "execution_count": 2,
   "metadata": {},
   "outputs": [],
   "source": [
    "# reading the dataset\n",
    "df = pd.read_csv('breast_cancer_data.csv')"
   ]
  },
  {
   "cell_type": "code",
   "execution_count": 3,
   "metadata": {},
   "outputs": [
    {
     "data": {
      "text/html": [
       "<div>\n",
       "<style scoped>\n",
       "    .dataframe tbody tr th:only-of-type {\n",
       "        vertical-align: middle;\n",
       "    }\n",
       "\n",
       "    .dataframe tbody tr th {\n",
       "        vertical-align: top;\n",
       "    }\n",
       "\n",
       "    .dataframe thead th {\n",
       "        text-align: right;\n",
       "    }\n",
       "</style>\n",
       "<table border=\"1\" class=\"dataframe\">\n",
       "  <thead>\n",
       "    <tr style=\"text-align: right;\">\n",
       "      <th></th>\n",
       "      <th>BI_RADS</th>\n",
       "      <th>Age</th>\n",
       "      <th>Shape</th>\n",
       "      <th>Margin</th>\n",
       "      <th>Mass_Density</th>\n",
       "      <th>Severity</th>\n",
       "    </tr>\n",
       "  </thead>\n",
       "  <tbody>\n",
       "    <tr>\n",
       "      <th>0</th>\n",
       "      <td>5.0</td>\n",
       "      <td>67.0</td>\n",
       "      <td>lobular</td>\n",
       "      <td>spiculated</td>\n",
       "      <td>low</td>\n",
       "      <td>1</td>\n",
       "    </tr>\n",
       "    <tr>\n",
       "      <th>1</th>\n",
       "      <td>4.0</td>\n",
       "      <td>43.0</td>\n",
       "      <td>round</td>\n",
       "      <td>circumscribed</td>\n",
       "      <td>NaN</td>\n",
       "      <td>1</td>\n",
       "    </tr>\n",
       "    <tr>\n",
       "      <th>2</th>\n",
       "      <td>5.0</td>\n",
       "      <td>58.0</td>\n",
       "      <td>irregular</td>\n",
       "      <td>spiculated</td>\n",
       "      <td>low</td>\n",
       "      <td>1</td>\n",
       "    </tr>\n",
       "    <tr>\n",
       "      <th>3</th>\n",
       "      <td>4.0</td>\n",
       "      <td>28.0</td>\n",
       "      <td>round</td>\n",
       "      <td>circumscribed</td>\n",
       "      <td>low</td>\n",
       "      <td>0</td>\n",
       "    </tr>\n",
       "    <tr>\n",
       "      <th>4</th>\n",
       "      <td>5.0</td>\n",
       "      <td>74.0</td>\n",
       "      <td>round</td>\n",
       "      <td>spiculated</td>\n",
       "      <td>NaN</td>\n",
       "      <td>1</td>\n",
       "    </tr>\n",
       "  </tbody>\n",
       "</table>\n",
       "</div>"
      ],
      "text/plain": [
       "   BI_RADS   Age      Shape         Margin Mass_Density  Severity\n",
       "0      5.0  67.0    lobular     spiculated          low         1\n",
       "1      4.0  43.0      round  circumscribed          NaN         1\n",
       "2      5.0  58.0  irregular     spiculated          low         1\n",
       "3      4.0  28.0      round  circumscribed          low         0\n",
       "4      5.0  74.0      round     spiculated          NaN         1"
      ]
     },
     "execution_count": 3,
     "metadata": {},
     "output_type": "execute_result"
    }
   ],
   "source": [
    "# displaying 1st 5 rows of the dataset\n",
    "df.head()"
   ]
  },
  {
   "cell_type": "code",
   "execution_count": 4,
   "metadata": {},
   "outputs": [
    {
     "name": "stdout",
     "output_type": "stream",
     "text": [
      "<class 'pandas.core.frame.DataFrame'>\n",
      "RangeIndex: 961 entries, 0 to 960\n",
      "Data columns (total 6 columns):\n",
      "BI_RADS         959 non-null float64\n",
      "Age             861 non-null float64\n",
      "Shape           930 non-null object\n",
      "Margin          913 non-null object\n",
      "Mass_Density    885 non-null object\n",
      "Severity        961 non-null int64\n",
      "dtypes: float64(2), int64(1), object(3)\n",
      "memory usage: 45.1+ KB\n"
     ]
    }
   ],
   "source": [
    "# brief information about the dataset regarding data type of variables and number of non-null instances in each of them\n",
    "df.info()"
   ]
  },
  {
   "cell_type": "markdown",
   "metadata": {},
   "source": [
    "# Data Cleaning"
   ]
  },
  {
   "cell_type": "code",
   "execution_count": 5,
   "metadata": {},
   "outputs": [],
   "source": [
    "# calculating the % of NaN values for each and every column:\n",
    "null_percentage = pd.DataFrame(100*df.isnull().sum(axis = 0)/df.shape[0], columns = ['%_of_null_values'])"
   ]
  },
  {
   "cell_type": "code",
   "execution_count": 6,
   "metadata": {},
   "outputs": [
    {
     "data": {
      "text/html": [
       "<div>\n",
       "<style scoped>\n",
       "    .dataframe tbody tr th:only-of-type {\n",
       "        vertical-align: middle;\n",
       "    }\n",
       "\n",
       "    .dataframe tbody tr th {\n",
       "        vertical-align: top;\n",
       "    }\n",
       "\n",
       "    .dataframe thead th {\n",
       "        text-align: right;\n",
       "    }\n",
       "</style>\n",
       "<table border=\"1\" class=\"dataframe\">\n",
       "  <thead>\n",
       "    <tr style=\"text-align: right;\">\n",
       "      <th></th>\n",
       "      <th>%_of_null_values</th>\n",
       "    </tr>\n",
       "  </thead>\n",
       "  <tbody>\n",
       "    <tr>\n",
       "      <th>Age</th>\n",
       "      <td>10.405827</td>\n",
       "    </tr>\n",
       "    <tr>\n",
       "      <th>Mass_Density</th>\n",
       "      <td>7.908429</td>\n",
       "    </tr>\n",
       "    <tr>\n",
       "      <th>Margin</th>\n",
       "      <td>4.994797</td>\n",
       "    </tr>\n",
       "    <tr>\n",
       "      <th>Shape</th>\n",
       "      <td>3.225806</td>\n",
       "    </tr>\n",
       "    <tr>\n",
       "      <th>BI_RADS</th>\n",
       "      <td>0.208117</td>\n",
       "    </tr>\n",
       "  </tbody>\n",
       "</table>\n",
       "</div>"
      ],
      "text/plain": [
       "              %_of_null_values\n",
       "Age                  10.405827\n",
       "Mass_Density          7.908429\n",
       "Margin                4.994797\n",
       "Shape                 3.225806\n",
       "BI_RADS               0.208117"
      ]
     },
     "execution_count": 6,
     "metadata": {},
     "output_type": "execute_result"
    }
   ],
   "source": [
    "# displaying columns containing NaN values with % of NaN values in them\n",
    "null_percentage.loc[(null_percentage['%_of_null_values'] > 0),:].sort_values('%_of_null_values', ascending = False)"
   ]
  },
  {
   "cell_type": "code",
   "execution_count": 7,
   "metadata": {},
   "outputs": [],
   "source": [
    "# Imputing the continuous feature, Age with median\n",
    "df.loc[df.isnull()['Age'], ['Age']] = df['Age'].median()\n",
    "# Imputing the categorical features, Mass_Density, Margin, Shape and BI_RADS with mode\n",
    "df.loc[df.isnull()['Mass_Density'], ['Mass_Density']] = df['Mass_Density'].mode()[0]\n",
    "df.loc[df.isnull()['Margin'], ['Margin']] = df['Margin'].mode()[0]\n",
    "df.loc[df.isnull()['Shape'], ['Shape']] = df['Shape'].mode()[0]\n",
    "df.loc[df.isnull()['BI_RADS'], ['BI_RADS']] = df['BI_RADS'].mode()[0]"
   ]
  },
  {
   "cell_type": "markdown",
   "metadata": {},
   "source": [
    "# Exploratory Data Analysis (EDA)"
   ]
  },
  {
   "cell_type": "markdown",
   "metadata": {},
   "source": [
    "## 1. Univariate Analysis"
   ]
  },
  {
   "cell_type": "code",
   "execution_count": 8,
   "metadata": {},
   "outputs": [
    {
     "data": {
      "text/plain": [
       "<matplotlib.axes._subplots.AxesSubplot at 0x18280d1cf98>"
      ]
     },
     "execution_count": 8,
     "metadata": {},
     "output_type": "execute_result"
    },
    {
     "data": {
      "image/png": "[encoded data removed]",
      "text/plain": [
       "<Figure size 432x288 with 1 Axes>"
      ]
     },
     "metadata": {
      "needs_background": "light"
     },
     "output_type": "display_data"
    }
   ],
   "source": [
    "# class category count i.e., class distribution of target variable, Severity\n",
    "sns.countplot(data = df, x = 'Severity')"
   ]
  },
  {
   "cell_type": "code",
   "execution_count": 9,
   "metadata": {},
   "outputs": [
    {
     "data": {
      "image/png": "[encoded data removed]",
      "text/plain": [
       "<Figure size 864x360 with 2 Axes>"
      ]
     },
     "metadata": {
      "needs_background": "light"
     },
     "output_type": "display_data"
    }
   ],
   "source": [
    "# Distribition Plot and Box Plot of Continuous Variable, Age\n",
    "plt.figure(figsize = (12, 5))\n",
    "plt.subplot(1, 2, 1)\n",
    "sns.distplot(df['Age'])\n",
    "plt.subplot(1, 2, 2)\n",
    "sns.boxplot(data = df, y = 'Age')\n",
    "plt.show()"
   ]
  },
  {
   "cell_type": "markdown",
   "metadata": {},
   "source": [
    "### From the Distribution Plot, it can be concluded visually that the continuous feature variable, Age is  NOT normally distributed as the spread on either side is uneven\n",
    "### The Box-plot shows the outliers, which are later properly capped at both lower and upper ends (limits)"
   ]
  },
  {
   "cell_type": "code",
   "execution_count": 10,
   "metadata": {},
   "outputs": [
    {
     "data": {
      "text/plain": [
       "(0.9250088930130005, 1.776654708793192e-21)"
      ]
     },
     "execution_count": 10,
     "metadata": {},
     "output_type": "execute_result"
    }
   ],
   "source": [
    "# Shapiro-Wilk Test on Age Feature (statistical test for Normal Distribution)\n",
    "shapiro(df['Age'])"
   ]
  },
  {
   "cell_type": "markdown",
   "metadata": {},
   "source": [
    "### The p-Value from the Shapiro-Wilk Test is 1.776e-21, which is way less than 0.05, hence the distribution of Age attribute CANNOT BE ASSUMED A NORMAL DISTRIBUTION statistically"
   ]
  },
  {
   "cell_type": "code",
   "execution_count": 11,
   "metadata": {},
   "outputs": [
    {
     "data": {
      "image/png": "[encoded data removed]",
      "text/plain": [
       "<Figure size 1440x1440 with 4 Axes>"
      ]
     },
     "metadata": {
      "needs_background": "light"
     },
     "output_type": "display_data"
    }
   ],
   "source": [
    "# Category Count Distribution of Categorical Variables, BI_RADS, Shape, Margin and Mass_Density\n",
    "plt.figure(figsize = (20, 20))\n",
    "plt.subplot(2, 2, 1)\n",
    "sns.countplot(data = df, x = 'BI_RADS')\n",
    "plt.subplot(2, 2, 2)\n",
    "sns.countplot(data = df, x = 'Shape')\n",
    "plt.subplot(2, 2, 3)\n",
    "sns.countplot(data = df, x = 'Margin')\n",
    "plt.subplot(2, 2, 4)\n",
    "sns.countplot(data = df, x = 'Mass_Density')\n",
    "plt.show()"
   ]
  },
  {
   "cell_type": "markdown",
   "metadata": {},
   "source": [
    "## 2. Bivariate Analysis"
   ]
  },
  {
   "cell_type": "code",
   "execution_count": 12,
   "metadata": {},
   "outputs": [
    {
     "data": {
      "image/png": "[encoded data removed]",
      "text/plain": [
       "<Figure size 432x288 with 2 Axes>"
      ]
     },
     "metadata": {
      "needs_background": "light"
     },
     "output_type": "display_data"
    }
   ],
   "source": [
    "# plotting correlation heat-map between Continuous Variable, Age and Target Variable, Severity\n",
    "sns.heatmap(df[['Age', 'Severity']].corr(), cmap=\"YlGnBu\", annot=True)\n",
    "plt.show()"
   ]
  },
  {
   "cell_type": "code",
   "execution_count": 13,
   "metadata": {},
   "outputs": [
    {
     "data": {
      "text/plain": [
       "<matplotlib.axes._subplots.AxesSubplot at 0x182a72ef470>"
      ]
     },
     "execution_count": 13,
     "metadata": {},
     "output_type": "execute_result"
    },
    {
     "data": {
      "image/png": "[encoded data removed]",
      "text/plain": [
       "<Figure size 432x288 with 1 Axes>"
      ]
     },
     "metadata": {
      "needs_background": "light"
     },
     "output_type": "display_data"
    }
   ],
   "source": [
    "# Separated Box-plot of Continious Variable, Age on the basis of target variable, Severity\n",
    "sns.boxplot(data = df, y = 'Age', x = 'Severity', hue = 'Severity')"
   ]
  },
  {
   "cell_type": "code",
   "execution_count": 14,
   "metadata": {},
   "outputs": [
    {
     "data": {
      "image/png": "[encoded data removed]",
      "text/plain": [
       "<Figure size 1440x1440 with 4 Axes>"
      ]
     },
     "metadata": {
      "needs_background": "light"
     },
     "output_type": "display_data"
    }
   ],
   "source": [
    "# Separated Category Count Distribution of Categorical Variables, BI_RADS, Shape, Margin and Mass_Density on the basis of target variable, Severity\n",
    "plt.figure(figsize = (20, 20))\n",
    "plt.subplot(2, 2, 1)\n",
    "sns.barplot(x = 'BI_RADS', y = 'Severity', hue = \"Severity\", data = df, estimator = lambda x: len(x) / len(df) * 100)\n",
    "plt.subplot(2, 2, 2)\n",
    "sns.barplot(x = 'Shape', y = 'Severity', hue = \"Severity\", data = df, estimator = lambda x: len(x) / len(df) * 100)\n",
    "plt.subplot(2, 2, 3)\n",
    "sns.barplot(x = 'Margin', y = 'Severity', hue = \"Severity\", data = df, estimator = lambda x: len(x) / len(df) * 100)\n",
    "plt.subplot(2, 2, 4)\n",
    "sns.barplot(x = 'Mass_Density', y = 'Severity', hue = \"Severity\", data = df, estimator = lambda x: len(x) / len(df) * 100)\n",
    "plt.show()"
   ]
  },
  {
   "cell_type": "markdown",
   "metadata": {},
   "source": [
    "# Outlier Treatment by capping the outliers at the Lower and Upper End"
   ]
  },
  {
   "cell_type": "code",
   "execution_count": 15,
   "metadata": {},
   "outputs": [],
   "source": [
    "lower_cap_limit = np.percentile(df['Age'], 25) - 1.5*iqr(df['Age'])\n",
    "upper_cap_limit = np.percentile(df['Age'], 75) + 1.5*iqr(df['Age'])\n",
    "df['Age'][df['Age'] <= lower_cap_limit] = lower_cap_limit\n",
    "df['Age'][df['Age'] >= upper_cap_limit] = upper_cap_limit"
   ]
  },
  {
   "cell_type": "markdown",
   "metadata": {},
   "source": [
    "# Data Preparation"
   ]
  },
  {
   "cell_type": "code",
   "execution_count": 16,
   "metadata": {},
   "outputs": [],
   "source": [
    "# spliting into X (features) and y (variables)\n",
    "X = df.loc[:,[x for x in list(df.columns) if x != 'Severity']]\n",
    "y = df['Severity']"
   ]
  },
  {
   "cell_type": "code",
   "execution_count": 17,
   "metadata": {},
   "outputs": [],
   "source": [
    "# As Mass_Density is an ordinal variable, so the textual data is converted to ordinal numerals\n",
    "X['Mass_Density'] = X['Mass_Density'].map({'high' : 1, \n",
    "                                           'iso' : 2, \n",
    "                                           'low' : 3, \n",
    "                                           'fat-containing' : 4})"
   ]
  },
  {
   "cell_type": "code",
   "execution_count": 18,
   "metadata": {},
   "outputs": [],
   "source": [
    "# converting the nominal variables into dummy variables and deleting the original nominals\n",
    "nominal_features = ['Shape', 'Margin']\n",
    "X_nominal = X[nominal_features]\n",
    "X = X.drop(nominal_features, axis = 1)\n",
    "df_dummies = pd.get_dummies(X_nominal, drop_first=True)\n",
    "X = pd.concat([X, df_dummies], axis = 1)"
   ]
  },
  {
   "cell_type": "code",
   "execution_count": 19,
   "metadata": {},
   "outputs": [
    {
     "name": "stdout",
     "output_type": "stream",
     "text": [
      "Index(['BI_RADS', 'Age', 'Mass_Density', 'Shape_lobular', 'Shape_oval',\n",
      "       'Shape_round', 'Margin_ill-defined', 'Margin_microlobulated',\n",
      "       'Margin_obscured', 'Margin_spiculated'],\n",
      "      dtype='object')\n"
     ]
    }
   ],
   "source": [
    "# features considered for modelling...\n",
    "print(X.columns)"
   ]
  },
  {
   "cell_type": "markdown",
   "metadata": {},
   "source": [
    "## Feature Descriptions:\n",
    "### 1. BI_RADS: Assessment (ordinal, categorical)\n",
    "### 2. Age: Age (continuous)\n",
    "### 3. Mass_Density: Density (ordinal, categorical)\n",
    "### 4. Shape_lobular: Whether the mass shape is lobular or not (binominal, categorical)\n",
    "### 5. Shape_oval: Whether the mass shape is oval or not (binominal, categorical)\n",
    "### 6. Shape_round: Whether the mass shape is round or not (binominal, categorical)\n",
    "### 7. Margin_ill-defined: Whether the mass margin is ill-defined or not (binominal, categorical)\n",
    "### 8. Margin_microlobulated: Whether the mass margin is microlobulated or not (binominal, categorical)\n",
    "### 9. Margin_obscured: Whether the mass margin is obscured or not (binominal, categorical)\n",
    "### 10. Margin_spiculated: Whether the mass margin is spiculated or not (binominal, categorical)"
   ]
  },
  {
   "cell_type": "markdown",
   "metadata": {},
   "source": [
    "# Modelling with Random Forest Classifier\n",
    "## As, Random Forest is a tree ensemble model based out of bagging, it can model non-linear decisions. Hence, it is employed to expect enhanced Model Performance"
   ]
  },
  {
   "cell_type": "code",
   "execution_count": 20,
   "metadata": {},
   "outputs": [],
   "source": [
    "# splitting into train and test sets\n",
    "from sklearn.model_selection import train_test_split\n",
    "X_train, X_test, y_train, y_test = train_test_split(X, y, \n",
    "                                                    train_size=0.8,\n",
    "                                                    test_size = 0.2, random_state=201)"
   ]
  },
  {
   "cell_type": "code",
   "execution_count": 21,
   "metadata": {},
   "outputs": [],
   "source": [
    "# scaling the continiuous variable, Age\n",
    "scaler = StandardScaler()\n",
    "X_train['Age'] = scaler.fit_transform(np.array(X_train['Age']).reshape(-1, 1))\n",
    "X_test['Age'] = scaler.transform(np.array(X_test['Age']).reshape(-1, 1))"
   ]
  },
  {
   "cell_type": "markdown",
   "metadata": {},
   "source": [
    "### GridSearchCrossValidation with Stratified-5-fold Hyper-parameter tuning the Random Forest Classifier Model with number of estimators and max_depth as the hyper-parameters tuned\n",
    "#### In Grid-Search, Recall is used as the scoring metric as in this Breast Cancer Detection Problem, number of False Negatives (actually Maligant but predicted Benign), needs to be reduced"
   ]
  },
  {
   "cell_type": "code",
   "execution_count": 22,
   "metadata": {},
   "outputs": [],
   "source": [
    "rf = RandomForestClassifier(random_state = 1234)\n",
    "params = {'n_estimators':[100,150,200,250,300,350,400,450,500], 'max_depth':[3,4,5]}\n",
    "\n",
    "# creating 5 folds\n",
    "folds = StratifiedKFold(n_splits = 5, shuffle = True, random_state = 1234)\n",
    "\n",
    "# creating gridsearch object with recall as scoring metric\n",
    "model = GridSearchCV(estimator = rf, cv = folds, param_grid = params, scoring = 'recall', verbose = 1)"
   ]
  },
  {
   "cell_type": "code",
   "execution_count": 23,
   "metadata": {},
   "outputs": [
    {
     "name": "stdout",
     "output_type": "stream",
     "text": [
      "Fitting 5 folds for each of 27 candidates, totalling 135 fits\n"
     ]
    },
    {
     "name": "stderr",
     "output_type": "stream",
     "text": [
      "[Parallel(n_jobs=1)]: Using backend SequentialBackend with 1 concurrent workers.\n",
      "[Parallel(n_jobs=1)]: Done 135 out of 135 | elapsed:  2.3min finished\n"
     ]
    },
    {
     "data": {
      "text/plain": [
       "GridSearchCV(cv=StratifiedKFold(n_splits=5, random_state=1234, shuffle=True),\n",
       "       error_score='raise-deprecating',\n",
       "       estimator=RandomForestClassifier(bootstrap=True, class_weight=None, criterion='gini',\n",
       "            max_depth=None, max_features='auto', max_leaf_nodes=None,\n",
       "            min_impurity_decrease=0.0, min_impurity_split=None,\n",
       "            min_samples_leaf=1, min_samples_split=2,\n",
       "            min_weight_fraction_leaf=0.0, n_estimators='warn', n_jobs=None,\n",
       "            oob_score=False, random_state=1234, verbose=0,\n",
       "            warm_start=False),\n",
       "       fit_params=None, iid='warn', n_jobs=None,\n",
       "       param_grid={'n_estimators': [100, 150, 200, 250, 300, 350, 400, 450, 500], 'max_depth': [3, 4, 5]},\n",
       "       pre_dispatch='2*n_jobs', refit=True, return_train_score='warn',\n",
       "       scoring='recall', verbose=1)"
      ]
     },
     "execution_count": 23,
     "metadata": {},
     "output_type": "execute_result"
    }
   ],
   "source": [
    "# fitting model\n",
    "model.fit(X_train, y_train)"
   ]
  },
  {
   "cell_type": "code",
   "execution_count": 24,
   "metadata": {},
   "outputs": [
    {
     "name": "stdout",
     "output_type": "stream",
     "text": [
      "Best Recall:  0.8277271412037037\n",
      "Best hyperparameters:  {'max_depth': 5, 'n_estimators': 200}\n"
     ]
    }
   ],
   "source": [
    "# printing best hyperparameters\n",
    "print(\"Best Recall: \", model.best_score_)\n",
    "print(\"Best hyperparameters: \", model.best_params_)"
   ]
  },
  {
   "cell_type": "code",
   "execution_count": 25,
   "metadata": {},
   "outputs": [],
   "source": [
    "model_rf = RandomForestClassifier(n_estimators = 200, max_depth = 5, random_state = 1234).fit(X_train, y_train)"
   ]
  },
  {
   "cell_type": "code",
   "execution_count": 26,
   "metadata": {},
   "outputs": [],
   "source": [
    "y_train_pred_prob = model_rf.predict_proba(X_train) # getting the predicted probabilities for the Training Set\n",
    "y_train_pred = model_rf.predict(X_train) # getting the predictions for the Training Set"
   ]
  },
  {
   "cell_type": "code",
   "execution_count": 27,
   "metadata": {},
   "outputs": [
    {
     "data": {
      "text/html": [
       "<div>\n",
       "<style scoped>\n",
       "    .dataframe tbody tr th:only-of-type {\n",
       "        vertical-align: middle;\n",
       "    }\n",
       "\n",
       "    .dataframe tbody tr th {\n",
       "        vertical-align: top;\n",
       "    }\n",
       "\n",
       "    .dataframe thead th {\n",
       "        text-align: right;\n",
       "    }\n",
       "</style>\n",
       "<table border=\"1\" class=\"dataframe\">\n",
       "  <thead>\n",
       "    <tr style=\"text-align: right;\">\n",
       "      <th></th>\n",
       "      <th>Pred</th>\n",
       "      <th>Prob</th>\n",
       "    </tr>\n",
       "  </thead>\n",
       "  <tbody>\n",
       "    <tr>\n",
       "      <th>0</th>\n",
       "      <td>0</td>\n",
       "      <td>0.455388</td>\n",
       "    </tr>\n",
       "    <tr>\n",
       "      <th>1</th>\n",
       "      <td>0</td>\n",
       "      <td>0.125498</td>\n",
       "    </tr>\n",
       "    <tr>\n",
       "      <th>2</th>\n",
       "      <td>0</td>\n",
       "      <td>0.373479</td>\n",
       "    </tr>\n",
       "    <tr>\n",
       "      <th>3</th>\n",
       "      <td>0</td>\n",
       "      <td>0.192793</td>\n",
       "    </tr>\n",
       "    <tr>\n",
       "      <th>4</th>\n",
       "      <td>0</td>\n",
       "      <td>0.121293</td>\n",
       "    </tr>\n",
       "  </tbody>\n",
       "</table>\n",
       "</div>"
      ],
      "text/plain": [
       "   Pred      Prob\n",
       "0     0  0.455388\n",
       "1     0  0.125498\n",
       "2     0  0.373479\n",
       "3     0  0.192793\n",
       "4     0  0.121293"
      ]
     },
     "execution_count": 27,
     "metadata": {},
     "output_type": "execute_result"
    }
   ],
   "source": [
    "y_train_pred_final = pd.DataFrame({'Pred':y_train_pred, 'Prob':y_train_pred_prob[:,1]})\n",
    "y_train_pred_final.head()"
   ]
  },
  {
   "cell_type": "code",
   "execution_count": 28,
   "metadata": {},
   "outputs": [
    {
     "data": {
      "text/html": [
       "<div>\n",
       "<style scoped>\n",
       "    .dataframe tbody tr th:only-of-type {\n",
       "        vertical-align: middle;\n",
       "    }\n",
       "\n",
       "    .dataframe tbody tr th {\n",
       "        vertical-align: top;\n",
       "    }\n",
       "\n",
       "    .dataframe thead th {\n",
       "        text-align: right;\n",
       "    }\n",
       "</style>\n",
       "<table border=\"1\" class=\"dataframe\">\n",
       "  <thead>\n",
       "    <tr style=\"text-align: right;\">\n",
       "      <th></th>\n",
       "      <th>Pred</th>\n",
       "      <th>Prob</th>\n",
       "      <th>0.0</th>\n",
       "      <th>0.1</th>\n",
       "      <th>0.2</th>\n",
       "      <th>0.3</th>\n",
       "      <th>0.4</th>\n",
       "      <th>0.5</th>\n",
       "      <th>0.6</th>\n",
       "      <th>0.7</th>\n",
       "      <th>0.8</th>\n",
       "      <th>0.9</th>\n",
       "    </tr>\n",
       "  </thead>\n",
       "  <tbody>\n",
       "    <tr>\n",
       "      <th>0</th>\n",
       "      <td>0</td>\n",
       "      <td>0.455388</td>\n",
       "      <td>1</td>\n",
       "      <td>1</td>\n",
       "      <td>1</td>\n",
       "      <td>1</td>\n",
       "      <td>1</td>\n",
       "      <td>0</td>\n",
       "      <td>0</td>\n",
       "      <td>0</td>\n",
       "      <td>0</td>\n",
       "      <td>0</td>\n",
       "    </tr>\n",
       "    <tr>\n",
       "      <th>1</th>\n",
       "      <td>0</td>\n",
       "      <td>0.125498</td>\n",
       "      <td>1</td>\n",
       "      <td>1</td>\n",
       "      <td>0</td>\n",
       "      <td>0</td>\n",
       "      <td>0</td>\n",
       "      <td>0</td>\n",
       "      <td>0</td>\n",
       "      <td>0</td>\n",
       "      <td>0</td>\n",
       "      <td>0</td>\n",
       "    </tr>\n",
       "    <tr>\n",
       "      <th>2</th>\n",
       "      <td>0</td>\n",
       "      <td>0.373479</td>\n",
       "      <td>1</td>\n",
       "      <td>1</td>\n",
       "      <td>1</td>\n",
       "      <td>1</td>\n",
       "      <td>0</td>\n",
       "      <td>0</td>\n",
       "      <td>0</td>\n",
       "      <td>0</td>\n",
       "      <td>0</td>\n",
       "      <td>0</td>\n",
       "    </tr>\n",
       "    <tr>\n",
       "      <th>3</th>\n",
       "      <td>0</td>\n",
       "      <td>0.192793</td>\n",
       "      <td>1</td>\n",
       "      <td>1</td>\n",
       "      <td>0</td>\n",
       "      <td>0</td>\n",
       "      <td>0</td>\n",
       "      <td>0</td>\n",
       "      <td>0</td>\n",
       "      <td>0</td>\n",
       "      <td>0</td>\n",
       "      <td>0</td>\n",
       "    </tr>\n",
       "    <tr>\n",
       "      <th>4</th>\n",
       "      <td>0</td>\n",
       "      <td>0.121293</td>\n",
       "      <td>1</td>\n",
       "      <td>1</td>\n",
       "      <td>0</td>\n",
       "      <td>0</td>\n",
       "      <td>0</td>\n",
       "      <td>0</td>\n",
       "      <td>0</td>\n",
       "      <td>0</td>\n",
       "      <td>0</td>\n",
       "      <td>0</td>\n",
       "    </tr>\n",
       "  </tbody>\n",
       "</table>\n",
       "</div>"
      ],
      "text/plain": [
       "   Pred      Prob  0.0  0.1  0.2  0.3  0.4  0.5  0.6  0.7  0.8  0.9\n",
       "0     0  0.455388    1    1    1    1    1    0    0    0    0    0\n",
       "1     0  0.125498    1    1    0    0    0    0    0    0    0    0\n",
       "2     0  0.373479    1    1    1    1    0    0    0    0    0    0\n",
       "3     0  0.192793    1    1    0    0    0    0    0    0    0    0\n",
       "4     0  0.121293    1    1    0    0    0    0    0    0    0    0"
      ]
     },
     "execution_count": 28,
     "metadata": {},
     "output_type": "execute_result"
    }
   ],
   "source": [
    "# creating columns with different probability cutoffs\n",
    "numbers = [float(x)/10 for x in range(10)]\n",
    "for i in numbers:\n",
    "    y_train_pred_final[i]= y_train_pred_final.Prob.map(lambda x: 1 if x > i else 0)\n",
    "y_train_pred_final.head()"
   ]
  },
  {
   "cell_type": "code",
   "execution_count": 29,
   "metadata": {},
   "outputs": [
    {
     "name": "stdout",
     "output_type": "stream",
     "text": [
      "     prob  accuracy  sensitivity  specificity\n",
      "0.0   0.0  0.468750     1.000000     0.000000\n",
      "0.1   0.1  0.602865     0.994444     0.257353\n",
      "0.2   0.2  0.795573     0.961111     0.649510\n",
      "0.3   0.3  0.839844     0.927778     0.762255\n",
      "0.4   0.4  0.859375     0.869444     0.850490\n",
      "0.5   0.5  0.860677     0.847222     0.872549\n",
      "0.6   0.6  0.851562     0.783333     0.911765\n",
      "0.7   0.7  0.846354     0.733333     0.946078\n",
      "0.8   0.8  0.800781     0.613889     0.965686\n",
      "0.9   0.9  0.631510     0.216667     0.997549\n"
     ]
    }
   ],
   "source": [
    "# calculating accuracy sensitivity and specificity for various probability cutoffs\n",
    "cutoff_df = pd.DataFrame(columns = ['prob','accuracy','sensitivity','specificity'])\n",
    "\n",
    "# TP = confusion[1,1] # true positive \n",
    "# TN = confusion[0,0] # true negatives\n",
    "# FP = confusion[0,1] # false positives\n",
    "# FN = confusion[1,0] # false negatives\n",
    "\n",
    "num = [0.0,0.1,0.2,0.3,0.4,0.5,0.6,0.7,0.8,0.9]\n",
    "for i in num:\n",
    "    cm1 = metrics.confusion_matrix(y_train, y_train_pred_final[i])\n",
    "    total1=sum(sum(cm1))\n",
    "    accuracy = (cm1[0,0]+cm1[1,1])/total1\n",
    "    \n",
    "    speci = cm1[0,0]/(cm1[0,0]+cm1[0,1])\n",
    "    sensi = cm1[1,1]/(cm1[1,0]+cm1[1,1])\n",
    "    cutoff_df.loc[i] = [i ,accuracy,sensi,speci]\n",
    "print(cutoff_df)"
   ]
  },
  {
   "cell_type": "code",
   "execution_count": 30,
   "metadata": {},
   "outputs": [
    {
     "data": {
      "image/png": "[encoded data removed]",
      "text/plain": [
       "<Figure size 432x288 with 1 Axes>"
      ]
     },
     "metadata": {
      "needs_background": "light"
     },
     "output_type": "display_data"
    }
   ],
   "source": [
    "# plotting accuracy sensitivity (recall) and specificity for various probabilities.\n",
    "cutoff_df.plot.line(x='prob', y=['accuracy','sensitivity','specificity'])\n",
    "plt.show()"
   ]
  },
  {
   "cell_type": "markdown",
   "metadata": {},
   "source": [
    "### selecting the cut-off (threshold) to be 0.4 i.e., slightly left to the point of intersection for recall (sensitivity) boosting"
   ]
  },
  {
   "cell_type": "code",
   "execution_count": 31,
   "metadata": {},
   "outputs": [],
   "source": [
    "y_train_pred = np.array([1 if x >= 0.4 else 0 for x in y_train_pred])\n",
    "y_test_pred = np.array([1 if x >= 0.4 else 0 for x in model_rf.predict(X_test)])"
   ]
  },
  {
   "cell_type": "code",
   "execution_count": 32,
   "metadata": {},
   "outputs": [
    {
     "name": "stdout",
     "output_type": "stream",
     "text": [
      "Training Accuracy:  0.8606770833333334\n",
      "Test Accuracy:  0.8082901554404145\n",
      "\n",
      "\n",
      "Training Confusion Matrix: \n",
      "[[356  52]\n",
      " [ 55 305]]\n",
      "Test Confusion Matrix: \n",
      "[[86 22]\n",
      " [15 70]]\n",
      "\n",
      "\n",
      "Training Precision:  0.8543417366946778\n",
      "Test Precision:  0.7608695652173914\n",
      "\n",
      "\n",
      "Training Recall:  0.8472222222222222\n",
      "Test Recall:  0.8235294117647058\n",
      "\n",
      "\n",
      "Training F1-Score:  0.8507670850767084\n",
      "Test F1-Score:  0.7909604519774012\n",
      "\n",
      "\n",
      "Training AUC:  0.9317912581699345\n",
      "Test AUC:  0.8954248366013072\n"
     ]
    },
    {
     "data": {
      "image/png": "[encoded data removed]",
      "text/plain": [
       "<Figure size 360x360 with 1 Axes>"
      ]
     },
     "metadata": {
      "needs_background": "light"
     },
     "output_type": "display_data"
    },
    {
     "data": {
      "image/png": "[encoded data removed]",
      "text/plain": [
       "<Figure size 360x360 with 1 Axes>"
      ]
     },
     "metadata": {
      "needs_background": "light"
     },
     "output_type": "display_data"
    }
   ],
   "source": [
    "# FINAL MODEL RESULTS\n",
    "\n",
    "# Accuracy\n",
    "print('Training Accuracy: ', accuracy_score(y_train, y_train_pred))\n",
    "print('Test Accuracy: ', accuracy_score(y_test, y_test_pred))\n",
    "print('\\n')\n",
    "# Confusion Matrix\n",
    "cm_train = metrics.confusion_matrix(y_train, y_train_pred)\n",
    "print('Training Confusion Matrix: ')\n",
    "print(cm_train)\n",
    "cm_test = metrics.confusion_matrix(y_test, y_test_pred)\n",
    "print('Test Confusion Matrix: ')\n",
    "print(cm_test)\n",
    "print('\\n')\n",
    "# Precision\n",
    "training_precision = cm_train[1,1]/(cm_train[0,1]+cm_train[1,1])\n",
    "print('Training Precision: ', training_precision)\n",
    "test_precision = cm_test[1,1]/(cm_test[0,1]+cm_test[1,1])\n",
    "print('Test Precision: ', test_precision)\n",
    "print('\\n')\n",
    "# Recall\n",
    "training_recall = cm_train[1,1]/(cm_train[1,0]+cm_train[1,1])\n",
    "print('Training Recall: ', training_recall)\n",
    "test_recall = cm_test[1,1]/(cm_test[1,0]+cm_test[1,1])\n",
    "print('Test Recall: ', test_recall)\n",
    "print('\\n')\n",
    "# F1-Score\n",
    "print('Training F1-Score: ', 2*training_precision*training_recall/(training_precision+training_recall))\n",
    "print('Test F1-Score: ', 2*test_precision*test_recall/(test_precision+test_recall))\n",
    "print('\\n')\n",
    "# AUC Score and the ROC Curve\n",
    "print('Training AUC: ', metrics.roc_auc_score(y_train, y_train_pred_prob[:,1]))\n",
    "print('Test AUC: ', metrics.roc_auc_score(y_test, model_rf.predict_proba(X_test)[:,1]))\n",
    "draw_roc(y_train, y_train_pred_prob[:,1], 'Training Receiver Operator Characteristic Curve')\n",
    "draw_roc(y_test, model_rf.predict_proba(X_test)[:,1], 'Test Receiver Operator Characteristic Curve')"
   ]
  },
  {
   "cell_type": "markdown",
   "metadata": {},
   "source": [
    "# Random Forest Model Performance Analysis\n",
    "## AUC is considered as the ultimate metric for any Classification problem. Also, in this problem, Recall plays an important role. So, AUC and Recall are highly considered\n",
    "### 1. Looking at the Training AUC and Test AUC, the Model is almost a good fit (negligible over-fitting) and Test AUC of 0.90 is a good score.\n",
    "### 2. Recall Score of the Model is 0.82, which is an appreciable score."
   ]
  },
  {
   "cell_type": "markdown",
   "metadata": {},
   "source": [
    "# Model Interpretations in terms of feature importances"
   ]
  },
  {
   "cell_type": "code",
   "execution_count": 33,
   "metadata": {},
   "outputs": [
    {
     "data": {
      "text/html": [
       "<div>\n",
       "<style scoped>\n",
       "    .dataframe tbody tr th:only-of-type {\n",
       "        vertical-align: middle;\n",
       "    }\n",
       "\n",
       "    .dataframe tbody tr th {\n",
       "        vertical-align: top;\n",
       "    }\n",
       "\n",
       "    .dataframe thead th {\n",
       "        text-align: right;\n",
       "    }\n",
       "</style>\n",
       "<table border=\"1\" class=\"dataframe\">\n",
       "  <thead>\n",
       "    <tr style=\"text-align: right;\">\n",
       "      <th></th>\n",
       "      <th>features</th>\n",
       "      <th>importances</th>\n",
       "    </tr>\n",
       "  </thead>\n",
       "  <tbody>\n",
       "    <tr>\n",
       "      <th>0</th>\n",
       "      <td>BI_RADS</td>\n",
       "      <td>0.484854</td>\n",
       "    </tr>\n",
       "    <tr>\n",
       "      <th>1</th>\n",
       "      <td>Age</td>\n",
       "      <td>0.146606</td>\n",
       "    </tr>\n",
       "    <tr>\n",
       "      <th>9</th>\n",
       "      <td>Margin_spiculated</td>\n",
       "      <td>0.094118</td>\n",
       "    </tr>\n",
       "    <tr>\n",
       "      <th>6</th>\n",
       "      <td>Margin_ill-defined</td>\n",
       "      <td>0.086760</td>\n",
       "    </tr>\n",
       "    <tr>\n",
       "      <th>4</th>\n",
       "      <td>Shape_oval</td>\n",
       "      <td>0.077836</td>\n",
       "    </tr>\n",
       "    <tr>\n",
       "      <th>5</th>\n",
       "      <td>Shape_round</td>\n",
       "      <td>0.068077</td>\n",
       "    </tr>\n",
       "    <tr>\n",
       "      <th>2</th>\n",
       "      <td>Mass_Density</td>\n",
       "      <td>0.014659</td>\n",
       "    </tr>\n",
       "    <tr>\n",
       "      <th>3</th>\n",
       "      <td>Shape_lobular</td>\n",
       "      <td>0.012437</td>\n",
       "    </tr>\n",
       "    <tr>\n",
       "      <th>8</th>\n",
       "      <td>Margin_obscured</td>\n",
       "      <td>0.011127</td>\n",
       "    </tr>\n",
       "    <tr>\n",
       "      <th>7</th>\n",
       "      <td>Margin_microlobulated</td>\n",
       "      <td>0.003525</td>\n",
       "    </tr>\n",
       "  </tbody>\n",
       "</table>\n",
       "</div>"
      ],
      "text/plain": [
       "                features  importances\n",
       "0                BI_RADS     0.484854\n",
       "1                    Age     0.146606\n",
       "9      Margin_spiculated     0.094118\n",
       "6     Margin_ill-defined     0.086760\n",
       "4             Shape_oval     0.077836\n",
       "5            Shape_round     0.068077\n",
       "2           Mass_Density     0.014659\n",
       "3          Shape_lobular     0.012437\n",
       "8        Margin_obscured     0.011127\n",
       "7  Margin_microlobulated     0.003525"
      ]
     },
     "execution_count": 33,
     "metadata": {},
     "output_type": "execute_result"
    }
   ],
   "source": [
    "interpretations = pd.DataFrame({'features': X_train.columns, 'importances': model_rf.feature_importances_})\n",
    "interpretations.sort_values(by = 'importances', ascending = False) # most important to least important features"
   ]
  },
  {
   "cell_type": "markdown",
   "metadata": {},
   "source": [
    "## BI_RADS Assessment is the most important feature for Breast Cancer Prediction and Margin_microlobulated is the least important for the same"
   ]
  },
  {
   "cell_type": "markdown",
   "metadata": {},
   "source": [
    "## Limitation of Random Forest Classifier Model\n",
    "### Though Feature Importances can be extracted from the Trained Model, but notable observations and recommendations can't be made."
   ]
  }
 ],
 "metadata": {
  "kernelspec": {
   "display_name": "Python 3",
   "language": "python",
   "name": "python3"
  },
  "language_info": {
   "codemirror_mode": {
    "name": "ipython",
    "version": 3
   },
   "file_extension": ".py",
   "mimetype": "text/x-python",
   "name": "python",
   "nbconvert_exporter": "python",
   "pygments_lexer": "ipython3",
   "version": "3.7.3"
  }
 },
 "nbformat": 4,
 "nbformat_minor": 2
}
